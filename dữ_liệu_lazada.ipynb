{
  "nbformat": 4,
  "nbformat_minor": 0,
  "metadata": {
    "colab": {
      "name": "dữ liệu lazada.ipynb",
      "provenance": [],
      "authorship_tag": "ABX9TyPT89axOi3oYVssBw+IZ0vV",
      "include_colab_link": true
    },
    "kernelspec": {
      "name": "python3",
      "display_name": "Python 3"
    },
    "language_info": {
      "name": "python"
    }
  },
  "cells": [
    {
      "cell_type": "markdown",
      "metadata": {
        "id": "view-in-github",
        "colab_type": "text"
      },
      "source": [
        "<a href=\"https://colab.research.google.com/github/thangpro1242002/do-an-R/blob/main/d%E1%BB%AF_li%E1%BB%87u_lazada.ipynb\" target=\"_parent\"><img src=\"https://colab.research.google.com/assets/colab-badge.svg\" alt=\"Open In Colab\"/></a>"
      ]
    },
    {
      "cell_type": "markdown",
      "source": [
        "#Hiển thị Trực quan hóa Dữ liệu Khách hàng của Lazada Indonesia\n",
        "-Nguồn tập dữ liệu : https://www.kaggle.com/grikomsn/lazada-indonesian-reviews"
      ],
      "metadata": {
        "id": "NG1SdchEJsKh"
      }
    },
    {
      "cell_type": "markdown",
      "source": [
        "##I.Khám phá dữ liệu"
      ],
      "metadata": {
        "id": "CZuXNUxRnje6"
      }
    },
    {
      "cell_type": "code",
      "execution_count": 1,
      "metadata": {
        "id": "dG7YVOD1GBO5"
      },
      "outputs": [],
      "source": [
        "# Các thư viện thông dụng\n",
        "\n",
        "import matplotlib.pyplot as plt\n",
        "import matplotlib.ticker as tick\n",
        "import pandas  as pd \n",
        "import numpy   as np \n",
        "import seaborn as sns\n"
      ]
    },
    {
      "cell_type": "code",
      "source": [
        "#Tập dữ liệu\n",
        "df = pd.read_csv('/content/20191002-items.csv')\n",
        "df.head(15)"
      ],
      "metadata": {
        "colab": {
          "base_uri": "https://localhost:8080/",
          "height": 824
        },
        "id": "UaSVQNMcKo8Y",
        "outputId": "8f79aa89-eb71-4125-e9e6-190a9d1f301a"
      },
      "execution_count": 17,
      "outputs": [
        {
          "output_type": "execute_result",
          "data": {
            "text/html": [
              "\n",
              "  <div id=\"df-87576ea3-9728-4f53-8b0d-f1f34e5a2ecc\">\n",
              "    <div class=\"colab-df-container\">\n",
              "      <div>\n",
              "<style scoped>\n",
              "    .dataframe tbody tr th:only-of-type {\n",
              "        vertical-align: middle;\n",
              "    }\n",
              "\n",
              "    .dataframe tbody tr th {\n",
              "        vertical-align: top;\n",
              "    }\n",
              "\n",
              "    .dataframe thead th {\n",
              "        text-align: right;\n",
              "    }\n",
              "</style>\n",
              "<table border=\"1\" class=\"dataframe\">\n",
              "  <thead>\n",
              "    <tr style=\"text-align: right;\">\n",
              "      <th></th>\n",
              "      <th>itemId</th>\n",
              "      <th>category</th>\n",
              "      <th>name</th>\n",
              "      <th>brandName</th>\n",
              "      <th>url</th>\n",
              "      <th>price</th>\n",
              "      <th>averageRating</th>\n",
              "      <th>totalReviews</th>\n",
              "      <th>retrievedDate</th>\n",
              "    </tr>\n",
              "  </thead>\n",
              "  <tbody>\n",
              "    <tr>\n",
              "      <th>0</th>\n",
              "      <td>100002528</td>\n",
              "      <td>beli-harddisk-eksternal</td>\n",
              "      <td>TOSHIBA Smart HD LED TV 32\" - 32L5650VJ Free B...</td>\n",
              "      <td>Toshiba</td>\n",
              "      <td>https://www.lazada.co.id/products/toshiba-smar...</td>\n",
              "      <td>2499000</td>\n",
              "      <td>4</td>\n",
              "      <td>8</td>\n",
              "      <td>2019-10-02</td>\n",
              "    </tr>\n",
              "    <tr>\n",
              "      <th>1</th>\n",
              "      <td>100003785</td>\n",
              "      <td>beli-harddisk-eksternal</td>\n",
              "      <td>TOSHIBA Full HD Smart LED TV 40\" - 40L5650VJ -...</td>\n",
              "      <td>Toshiba</td>\n",
              "      <td>https://www.lazada.co.id/products/toshiba-full...</td>\n",
              "      <td>3788000</td>\n",
              "      <td>3</td>\n",
              "      <td>3</td>\n",
              "      <td>2019-10-02</td>\n",
              "    </tr>\n",
              "    <tr>\n",
              "      <th>2</th>\n",
              "      <td>100004132</td>\n",
              "      <td>beli-harddisk-eksternal</td>\n",
              "      <td>Samsung 40 Inch Full HD Flat LED Digital TV 4...</td>\n",
              "      <td>LG</td>\n",
              "      <td>https://www.lazada.co.id/products/samsung-40-i...</td>\n",
              "      <td>3850000</td>\n",
              "      <td>3</td>\n",
              "      <td>2</td>\n",
              "      <td>2019-10-02</td>\n",
              "    </tr>\n",
              "    <tr>\n",
              "      <th>3</th>\n",
              "      <td>100004505</td>\n",
              "      <td>beli-harddisk-eksternal</td>\n",
              "      <td>Sharp HD LED TV 24\" - LC-24LE175I - Hitam</td>\n",
              "      <td>Sharp</td>\n",
              "      <td>https://www.lazada.co.id/products/sharp-hd-led...</td>\n",
              "      <td>1275000</td>\n",
              "      <td>3</td>\n",
              "      <td>11</td>\n",
              "      <td>2019-10-02</td>\n",
              "    </tr>\n",
              "    <tr>\n",
              "      <th>4</th>\n",
              "      <td>100005037</td>\n",
              "      <td>beli-harddisk-eksternal</td>\n",
              "      <td>Lenovo Ideapad 130-15AST LAPTOP MULTIMEDIA I A...</td>\n",
              "      <td>Lenovo</td>\n",
              "      <td>https://www.lazada.co.id/products/lenovo-ideap...</td>\n",
              "      <td>3984100</td>\n",
              "      <td>5</td>\n",
              "      <td>1</td>\n",
              "      <td>2019-10-02</td>\n",
              "    </tr>\n",
              "    <tr>\n",
              "      <th>5</th>\n",
              "      <td>100006860</td>\n",
              "      <td>beli-harddisk-eksternal</td>\n",
              "      <td>Sandisk Flashdisk Cruzer Glide CZ60 16GB + iRi...</td>\n",
              "      <td>SanDisk</td>\n",
              "      <td>https://www.lazada.co.id/products/sandisk-flas...</td>\n",
              "      <td>55800</td>\n",
              "      <td>4</td>\n",
              "      <td>2</td>\n",
              "      <td>2019-10-02</td>\n",
              "    </tr>\n",
              "    <tr>\n",
              "      <th>6</th>\n",
              "      <td>100007498</td>\n",
              "      <td>beli-harddisk-eksternal</td>\n",
              "      <td>Asus X407UB-BV187T Laptop Multimedia Murah I C...</td>\n",
              "      <td>Asus</td>\n",
              "      <td>https://www.lazada.co.id/products/asus-x407ub-...</td>\n",
              "      <td>8132000</td>\n",
              "      <td>5</td>\n",
              "      <td>2</td>\n",
              "      <td>2019-10-02</td>\n",
              "    </tr>\n",
              "    <tr>\n",
              "      <th>7</th>\n",
              "      <td>100010722</td>\n",
              "      <td>beli-harddisk-eksternal</td>\n",
              "      <td>Philips 32PHA3052S/70 32\" Televisi LED (FREE B...</td>\n",
              "      <td>Philips</td>\n",
              "      <td>https://www.lazada.co.id/products/philips-32ph...</td>\n",
              "      <td>1990000</td>\n",
              "      <td>4</td>\n",
              "      <td>10</td>\n",
              "      <td>2019-10-02</td>\n",
              "    </tr>\n",
              "    <tr>\n",
              "      <th>8</th>\n",
              "      <td>100010745</td>\n",
              "      <td>beli-harddisk-eksternal</td>\n",
              "      <td>Philips 39PHA4251S/70 39' Televisi LED (FREE B...</td>\n",
              "      <td>Philips</td>\n",
              "      <td>https://www.lazada.co.id/products/philips-39ph...</td>\n",
              "      <td>3190000</td>\n",
              "      <td>4</td>\n",
              "      <td>7</td>\n",
              "      <td>2019-10-02</td>\n",
              "    </tr>\n",
              "    <tr>\n",
              "      <th>9</th>\n",
              "      <td>100015720</td>\n",
              "      <td>beli-harddisk-eksternal</td>\n",
              "      <td>Acer E5 575G-74E2 - Core i7-6500U - RAM 8GB DD...</td>\n",
              "      <td>Acer</td>\n",
              "      <td>https://www.lazada.co.id/products/acer-e5-575g...</td>\n",
              "      <td>8000000</td>\n",
              "      <td>3</td>\n",
              "      <td>8</td>\n",
              "      <td>2019-10-02</td>\n",
              "    </tr>\n",
              "    <tr>\n",
              "      <th>10</th>\n",
              "      <td>100024235</td>\n",
              "      <td>beli-harddisk-eksternal</td>\n",
              "      <td>Sharp LED 32 LE 180 - 32 Inc- Hitam KHUSUS JAB...</td>\n",
              "      <td>Sharp</td>\n",
              "      <td>https://www.lazada.co.id/products/sharp-led-32...</td>\n",
              "      <td>1800000</td>\n",
              "      <td>3</td>\n",
              "      <td>3</td>\n",
              "      <td>2019-10-02</td>\n",
              "    </tr>\n",
              "    <tr>\n",
              "      <th>11</th>\n",
              "      <td>100027053</td>\n",
              "      <td>beli-harddisk-eksternal</td>\n",
              "      <td>SanDisk Flashdisk Cruzer Glide CZ60 - 32GB - H...</td>\n",
              "      <td>SanDisk</td>\n",
              "      <td>https://www.lazada.co.id/products/sandisk-flas...</td>\n",
              "      <td>198220</td>\n",
              "      <td>5</td>\n",
              "      <td>1</td>\n",
              "      <td>2019-10-02</td>\n",
              "    </tr>\n",
              "    <tr>\n",
              "      <th>12</th>\n",
              "      <td>100027329</td>\n",
              "      <td>beli-harddisk-eksternal</td>\n",
              "      <td>Maxtor Hardisk Eksternal M3 1TB 2.5\" USB 3.0 H...</td>\n",
              "      <td>Maxtor</td>\n",
              "      <td>https://www.lazada.co.id/products/maxtor-hardi...</td>\n",
              "      <td>755000</td>\n",
              "      <td>4</td>\n",
              "      <td>3</td>\n",
              "      <td>2019-10-02</td>\n",
              "    </tr>\n",
              "    <tr>\n",
              "      <th>13</th>\n",
              "      <td>100027616</td>\n",
              "      <td>beli-harddisk-eksternal</td>\n",
              "      <td>SanDisk Flashdisk Ultra CZ48 100MB/s - 32GB - ...</td>\n",
              "      <td>SanDisk</td>\n",
              "      <td>https://www.lazada.co.id/products/sandisk-flas...</td>\n",
              "      <td>209880</td>\n",
              "      <td>5</td>\n",
              "      <td>4</td>\n",
              "      <td>2019-10-02</td>\n",
              "    </tr>\n",
              "    <tr>\n",
              "      <th>14</th>\n",
              "      <td>100028438</td>\n",
              "      <td>beli-harddisk-eksternal</td>\n",
              "      <td>Orico PHL-25 2.5 Inch HDD Protection Case Bag ...</td>\n",
              "      <td>Orico</td>\n",
              "      <td>https://www.lazada.co.id/products/orico-phl-25...</td>\n",
              "      <td>39900</td>\n",
              "      <td>4</td>\n",
              "      <td>6</td>\n",
              "      <td>2019-10-02</td>\n",
              "    </tr>\n",
              "  </tbody>\n",
              "</table>\n",
              "</div>\n",
              "      <button class=\"colab-df-convert\" onclick=\"convertToInteractive('df-87576ea3-9728-4f53-8b0d-f1f34e5a2ecc')\"\n",
              "              title=\"Convert this dataframe to an interactive table.\"\n",
              "              style=\"display:none;\">\n",
              "        \n",
              "  <svg xmlns=\"http://www.w3.org/2000/svg\" height=\"24px\"viewBox=\"0 0 24 24\"\n",
              "       width=\"24px\">\n",
              "    <path d=\"M0 0h24v24H0V0z\" fill=\"none\"/>\n",
              "    <path d=\"M18.56 5.44l.94 2.06.94-2.06 2.06-.94-2.06-.94-.94-2.06-.94 2.06-2.06.94zm-11 1L8.5 8.5l.94-2.06 2.06-.94-2.06-.94L8.5 2.5l-.94 2.06-2.06.94zm10 10l.94 2.06.94-2.06 2.06-.94-2.06-.94-.94-2.06-.94 2.06-2.06.94z\"/><path d=\"M17.41 7.96l-1.37-1.37c-.4-.4-.92-.59-1.43-.59-.52 0-1.04.2-1.43.59L10.3 9.45l-7.72 7.72c-.78.78-.78 2.05 0 2.83L4 21.41c.39.39.9.59 1.41.59.51 0 1.02-.2 1.41-.59l7.78-7.78 2.81-2.81c.8-.78.8-2.07 0-2.86zM5.41 20L4 18.59l7.72-7.72 1.47 1.35L5.41 20z\"/>\n",
              "  </svg>\n",
              "      </button>\n",
              "      \n",
              "  <style>\n",
              "    .colab-df-container {\n",
              "      display:flex;\n",
              "      flex-wrap:wrap;\n",
              "      gap: 12px;\n",
              "    }\n",
              "\n",
              "    .colab-df-convert {\n",
              "      background-color: #E8F0FE;\n",
              "      border: none;\n",
              "      border-radius: 50%;\n",
              "      cursor: pointer;\n",
              "      display: none;\n",
              "      fill: #1967D2;\n",
              "      height: 32px;\n",
              "      padding: 0 0 0 0;\n",
              "      width: 32px;\n",
              "    }\n",
              "\n",
              "    .colab-df-convert:hover {\n",
              "      background-color: #E2EBFA;\n",
              "      box-shadow: 0px 1px 2px rgba(60, 64, 67, 0.3), 0px 1px 3px 1px rgba(60, 64, 67, 0.15);\n",
              "      fill: #174EA6;\n",
              "    }\n",
              "\n",
              "    [theme=dark] .colab-df-convert {\n",
              "      background-color: #3B4455;\n",
              "      fill: #D2E3FC;\n",
              "    }\n",
              "\n",
              "    [theme=dark] .colab-df-convert:hover {\n",
              "      background-color: #434B5C;\n",
              "      box-shadow: 0px 1px 3px 1px rgba(0, 0, 0, 0.15);\n",
              "      filter: drop-shadow(0px 1px 2px rgba(0, 0, 0, 0.3));\n",
              "      fill: #FFFFFF;\n",
              "    }\n",
              "  </style>\n",
              "\n",
              "      <script>\n",
              "        const buttonEl =\n",
              "          document.querySelector('#df-87576ea3-9728-4f53-8b0d-f1f34e5a2ecc button.colab-df-convert');\n",
              "        buttonEl.style.display =\n",
              "          google.colab.kernel.accessAllowed ? 'block' : 'none';\n",
              "\n",
              "        async function convertToInteractive(key) {\n",
              "          const element = document.querySelector('#df-87576ea3-9728-4f53-8b0d-f1f34e5a2ecc');\n",
              "          const dataTable =\n",
              "            await google.colab.kernel.invokeFunction('convertToInteractive',\n",
              "                                                     [key], {});\n",
              "          if (!dataTable) return;\n",
              "\n",
              "          const docLinkHtml = 'Like what you see? Visit the ' +\n",
              "            '<a target=\"_blank\" href=https://colab.research.google.com/notebooks/data_table.ipynb>data table notebook</a>'\n",
              "            + ' to learn more about interactive tables.';\n",
              "          element.innerHTML = '';\n",
              "          dataTable['output_type'] = 'display_data';\n",
              "          await google.colab.output.renderOutput(dataTable, element);\n",
              "          const docLink = document.createElement('div');\n",
              "          docLink.innerHTML = docLinkHtml;\n",
              "          element.appendChild(docLink);\n",
              "        }\n",
              "      </script>\n",
              "    </div>\n",
              "  </div>\n",
              "  "
            ],
            "text/plain": [
              "       itemId                 category  ... totalReviews retrievedDate\n",
              "0   100002528  beli-harddisk-eksternal  ...            8    2019-10-02\n",
              "1   100003785  beli-harddisk-eksternal  ...            3    2019-10-02\n",
              "2   100004132  beli-harddisk-eksternal  ...            2    2019-10-02\n",
              "3   100004505  beli-harddisk-eksternal  ...           11    2019-10-02\n",
              "4   100005037  beli-harddisk-eksternal  ...            1    2019-10-02\n",
              "5   100006860  beli-harddisk-eksternal  ...            2    2019-10-02\n",
              "6   100007498  beli-harddisk-eksternal  ...            2    2019-10-02\n",
              "7   100010722  beli-harddisk-eksternal  ...           10    2019-10-02\n",
              "8   100010745  beli-harddisk-eksternal  ...            7    2019-10-02\n",
              "9   100015720  beli-harddisk-eksternal  ...            8    2019-10-02\n",
              "10  100024235  beli-harddisk-eksternal  ...            3    2019-10-02\n",
              "11  100027053  beli-harddisk-eksternal  ...            1    2019-10-02\n",
              "12  100027329  beli-harddisk-eksternal  ...            3    2019-10-02\n",
              "13  100027616  beli-harddisk-eksternal  ...            4    2019-10-02\n",
              "14  100028438  beli-harddisk-eksternal  ...            6    2019-10-02\n",
              "\n",
              "[15 rows x 9 columns]"
            ]
          },
          "metadata": {},
          "execution_count": 17
        }
      ]
    },
    {
      "cell_type": "code",
      "source": [
        "# Kiểm tra dữ liệu mỗi cột\n",
        "df.info()\n",
        "print('-'*40,'\\n','Shape :',df.shape)"
      ],
      "metadata": {
        "colab": {
          "base_uri": "https://localhost:8080/"
        },
        "id": "fF75iP51LgcI",
        "outputId": "935596ba-189f-4363-800b-f233e15b395b"
      },
      "execution_count": 3,
      "outputs": [
        {
          "output_type": "stream",
          "name": "stdout",
          "text": [
            "<class 'pandas.core.frame.DataFrame'>\n",
            "RangeIndex: 10942 entries, 0 to 10941\n",
            "Data columns (total 9 columns):\n",
            " #   Column         Non-Null Count  Dtype \n",
            "---  ------         --------------  ----- \n",
            " 0   itemId         10942 non-null  int64 \n",
            " 1   category       10942 non-null  object\n",
            " 2   name           10942 non-null  object\n",
            " 3   brandName      10940 non-null  object\n",
            " 4   url            10942 non-null  object\n",
            " 5   price          10942 non-null  int64 \n",
            " 6   averageRating  10942 non-null  int64 \n",
            " 7   totalReviews   10942 non-null  int64 \n",
            " 8   retrievedDate  10942 non-null  object\n",
            "dtypes: int64(4), object(5)\n",
            "memory usage: 769.5+ KB\n",
            "---------------------------------------- \n",
            " Shape : (10942, 9)\n"
          ]
        }
      ]
    },
    {
      "cell_type": "code",
      "source": [
        "# Mô tả dữ liệu\n",
        "df.describe()"
      ],
      "metadata": {
        "colab": {
          "base_uri": "https://localhost:8080/",
          "height": 300
        },
        "id": "bm2zq2OpkXFJ",
        "outputId": "fa0bcfb5-e790-4fbb-bd36-f172121b8160"
      },
      "execution_count": 5,
      "outputs": [
        {
          "output_type": "execute_result",
          "data": {
            "text/html": [
              "\n",
              "  <div id=\"df-0f29d312-99b7-4e96-9e90-c981b43ec282\">\n",
              "    <div class=\"colab-df-container\">\n",
              "      <div>\n",
              "<style scoped>\n",
              "    .dataframe tbody tr th:only-of-type {\n",
              "        vertical-align: middle;\n",
              "    }\n",
              "\n",
              "    .dataframe tbody tr th {\n",
              "        vertical-align: top;\n",
              "    }\n",
              "\n",
              "    .dataframe thead th {\n",
              "        text-align: right;\n",
              "    }\n",
              "</style>\n",
              "<table border=\"1\" class=\"dataframe\">\n",
              "  <thead>\n",
              "    <tr style=\"text-align: right;\">\n",
              "      <th></th>\n",
              "      <th>itemId</th>\n",
              "      <th>price</th>\n",
              "      <th>averageRating</th>\n",
              "      <th>totalReviews</th>\n",
              "    </tr>\n",
              "  </thead>\n",
              "  <tbody>\n",
              "    <tr>\n",
              "      <th>count</th>\n",
              "      <td>1.094200e+04</td>\n",
              "      <td>1.094200e+04</td>\n",
              "      <td>10942.000000</td>\n",
              "      <td>10942.000000</td>\n",
              "    </tr>\n",
              "    <tr>\n",
              "      <th>mean</th>\n",
              "      <td>2.936823e+08</td>\n",
              "      <td>3.020219e+06</td>\n",
              "      <td>4.171632</td>\n",
              "      <td>27.369494</td>\n",
              "    </tr>\n",
              "    <tr>\n",
              "      <th>std</th>\n",
              "      <td>2.090568e+08</td>\n",
              "      <td>6.681453e+06</td>\n",
              "      <td>1.032055</td>\n",
              "      <td>260.253817</td>\n",
              "    </tr>\n",
              "    <tr>\n",
              "      <th>min</th>\n",
              "      <td>6.068000e+03</td>\n",
              "      <td>1.000000e+03</td>\n",
              "      <td>1.000000</td>\n",
              "      <td>1.000000</td>\n",
              "    </tr>\n",
              "    <tr>\n",
              "      <th>25%</th>\n",
              "      <td>1.082924e+08</td>\n",
              "      <td>7.920000e+04</td>\n",
              "      <td>4.000000</td>\n",
              "      <td>1.000000</td>\n",
              "    </tr>\n",
              "    <tr>\n",
              "      <th>50%</th>\n",
              "      <td>3.540792e+08</td>\n",
              "      <td>1.095000e+06</td>\n",
              "      <td>4.000000</td>\n",
              "      <td>2.000000</td>\n",
              "    </tr>\n",
              "    <tr>\n",
              "      <th>75%</th>\n",
              "      <td>4.527141e+08</td>\n",
              "      <td>3.959000e+06</td>\n",
              "      <td>5.000000</td>\n",
              "      <td>7.000000</td>\n",
              "    </tr>\n",
              "    <tr>\n",
              "      <th>max</th>\n",
              "      <td>7.242170e+08</td>\n",
              "      <td>2.750000e+08</td>\n",
              "      <td>5.000000</td>\n",
              "      <td>9631.000000</td>\n",
              "    </tr>\n",
              "  </tbody>\n",
              "</table>\n",
              "</div>\n",
              "      <button class=\"colab-df-convert\" onclick=\"convertToInteractive('df-0f29d312-99b7-4e96-9e90-c981b43ec282')\"\n",
              "              title=\"Convert this dataframe to an interactive table.\"\n",
              "              style=\"display:none;\">\n",
              "        \n",
              "  <svg xmlns=\"http://www.w3.org/2000/svg\" height=\"24px\"viewBox=\"0 0 24 24\"\n",
              "       width=\"24px\">\n",
              "    <path d=\"M0 0h24v24H0V0z\" fill=\"none\"/>\n",
              "    <path d=\"M18.56 5.44l.94 2.06.94-2.06 2.06-.94-2.06-.94-.94-2.06-.94 2.06-2.06.94zm-11 1L8.5 8.5l.94-2.06 2.06-.94-2.06-.94L8.5 2.5l-.94 2.06-2.06.94zm10 10l.94 2.06.94-2.06 2.06-.94-2.06-.94-.94-2.06-.94 2.06-2.06.94z\"/><path d=\"M17.41 7.96l-1.37-1.37c-.4-.4-.92-.59-1.43-.59-.52 0-1.04.2-1.43.59L10.3 9.45l-7.72 7.72c-.78.78-.78 2.05 0 2.83L4 21.41c.39.39.9.59 1.41.59.51 0 1.02-.2 1.41-.59l7.78-7.78 2.81-2.81c.8-.78.8-2.07 0-2.86zM5.41 20L4 18.59l7.72-7.72 1.47 1.35L5.41 20z\"/>\n",
              "  </svg>\n",
              "      </button>\n",
              "      \n",
              "  <style>\n",
              "    .colab-df-container {\n",
              "      display:flex;\n",
              "      flex-wrap:wrap;\n",
              "      gap: 12px;\n",
              "    }\n",
              "\n",
              "    .colab-df-convert {\n",
              "      background-color: #E8F0FE;\n",
              "      border: none;\n",
              "      border-radius: 50%;\n",
              "      cursor: pointer;\n",
              "      display: none;\n",
              "      fill: #1967D2;\n",
              "      height: 32px;\n",
              "      padding: 0 0 0 0;\n",
              "      width: 32px;\n",
              "    }\n",
              "\n",
              "    .colab-df-convert:hover {\n",
              "      background-color: #E2EBFA;\n",
              "      box-shadow: 0px 1px 2px rgba(60, 64, 67, 0.3), 0px 1px 3px 1px rgba(60, 64, 67, 0.15);\n",
              "      fill: #174EA6;\n",
              "    }\n",
              "\n",
              "    [theme=dark] .colab-df-convert {\n",
              "      background-color: #3B4455;\n",
              "      fill: #D2E3FC;\n",
              "    }\n",
              "\n",
              "    [theme=dark] .colab-df-convert:hover {\n",
              "      background-color: #434B5C;\n",
              "      box-shadow: 0px 1px 3px 1px rgba(0, 0, 0, 0.15);\n",
              "      filter: drop-shadow(0px 1px 2px rgba(0, 0, 0, 0.3));\n",
              "      fill: #FFFFFF;\n",
              "    }\n",
              "  </style>\n",
              "\n",
              "      <script>\n",
              "        const buttonEl =\n",
              "          document.querySelector('#df-0f29d312-99b7-4e96-9e90-c981b43ec282 button.colab-df-convert');\n",
              "        buttonEl.style.display =\n",
              "          google.colab.kernel.accessAllowed ? 'block' : 'none';\n",
              "\n",
              "        async function convertToInteractive(key) {\n",
              "          const element = document.querySelector('#df-0f29d312-99b7-4e96-9e90-c981b43ec282');\n",
              "          const dataTable =\n",
              "            await google.colab.kernel.invokeFunction('convertToInteractive',\n",
              "                                                     [key], {});\n",
              "          if (!dataTable) return;\n",
              "\n",
              "          const docLinkHtml = 'Like what you see? Visit the ' +\n",
              "            '<a target=\"_blank\" href=https://colab.research.google.com/notebooks/data_table.ipynb>data table notebook</a>'\n",
              "            + ' to learn more about interactive tables.';\n",
              "          element.innerHTML = '';\n",
              "          dataTable['output_type'] = 'display_data';\n",
              "          await google.colab.output.renderOutput(dataTable, element);\n",
              "          const docLink = document.createElement('div');\n",
              "          docLink.innerHTML = docLinkHtml;\n",
              "          element.appendChild(docLink);\n",
              "        }\n",
              "      </script>\n",
              "    </div>\n",
              "  </div>\n",
              "  "
            ],
            "text/plain": [
              "             itemId         price  averageRating  totalReviews\n",
              "count  1.094200e+04  1.094200e+04   10942.000000  10942.000000\n",
              "mean   2.936823e+08  3.020219e+06       4.171632     27.369494\n",
              "std    2.090568e+08  6.681453e+06       1.032055    260.253817\n",
              "min    6.068000e+03  1.000000e+03       1.000000      1.000000\n",
              "25%    1.082924e+08  7.920000e+04       4.000000      1.000000\n",
              "50%    3.540792e+08  1.095000e+06       4.000000      2.000000\n",
              "75%    4.527141e+08  3.959000e+06       5.000000      7.000000\n",
              "max    7.242170e+08  2.750000e+08       5.000000   9631.000000"
            ]
          },
          "metadata": {},
          "execution_count": 5
        }
      ]
    },
    {
      "cell_type": "code",
      "source": [
        "# Số lượng của từng dữ liệu trong cột category\n",
        "df.category.value_counts()"
      ],
      "metadata": {
        "colab": {
          "base_uri": "https://localhost:8080/"
        },
        "id": "JX-SCyCsk9f0",
        "outputId": "6698ddcd-bd41-4e01-8dc0-b0d8d21649e3"
      },
      "execution_count": 6,
      "outputs": [
        {
          "output_type": "execute_result",
          "data": {
            "text/plain": [
              "beli-harddisk-eksternal    4422\n",
              "jual-flash-drives          3318\n",
              "beli-smart-tv              1290\n",
              "shop-televisi-digital      1211\n",
              "beli-laptop                 701\n",
              "Name: category, dtype: int64"
            ]
          },
          "metadata": {},
          "execution_count": 6
        }
      ]
    },
    {
      "cell_type": "code",
      "source": [
        "# Hiễn thị dữ liệu trong cột brandName\n",
        "df['brandName'].unique()"
      ],
      "metadata": {
        "colab": {
          "base_uri": "https://localhost:8080/"
        },
        "id": "yTu4QyB8lcPs",
        "outputId": "2c90b76b-f8a7-4969-db9f-6b5c7c0d4b7a"
      },
      "execution_count": 7,
      "outputs": [
        {
          "output_type": "execute_result",
          "data": {
            "text/plain": [
              "array(['Toshiba', 'LG', 'Sharp', 'Lenovo', 'SanDisk', 'Asus', 'Philips',\n",
              "       'Acer', 'Maxtor', 'Orico', 'HP', 'Transformers', 'WD', 'Panasonic',\n",
              "       'Hitachi', 'Sony', 'Ikedo', 'Seagate', 'Sanyo', 'Ichiko',\n",
              "       'Polytron', 'Kevindo', 'Xiaomi', 'VANDISK', 'VAKIND', 'Advance',\n",
              "       'USB', 'Samsung', 'China OEM', 'thinch', 'Kingston', 'Adata',\n",
              "       'TCL', 'Billionton', 'V-Gen', 'Dell', 'No Brand', 'JUC',\n",
              "       'Microsoft', 'Coocaa', 'DBest', 'Transcend', 'Hardcase', 'Aqua',\n",
              "       'SSK', 'Flashdisk', 'Unitek', 'Toserba', 'Trans', 'Otoshop',\n",
              "       'Konka', nan, \"Trend's\", 'Multi', 'M-Tech', 'OneGood',\n",
              "       'OTG USB Adapter', 'Import', 'O', 'Pqi', 'Universal', 'EsoGoal',\n",
              "       'AoTu', 'SATA', 'Polysonic', 'Uactor', 'Razer', 'UGREEN', 'MSI',\n",
              "       'Vitron', 'Beauties', '4Connect', 'Apple', 'EELIC', 'SUNSKY',\n",
              "       'SiliconPower', 'Case', 'Canon', 'Apexel', 'Hisense', 'EAGET',\n",
              "       'PhotoFast', 'Moonar', 'Seasonic', 'Notebook', 'Disney', 'Akari',\n",
              "       'OTG', 'JvGood', 'Trends', 'Hayabusa', 'Askhev', 'Western Digital',\n",
              "       'Bluesky', 'CHUWI', 'CMM', 'YYSL', 'empireera', 'OEM', 'Generic',\n",
              "       'ONLY', 'LG Household & Health Care', 'Rocket', 'Pretec', 'Rimas',\n",
              "       'MTECH', 'PRI', 'NYK', 'Multimax', 'Tidak Ada Merk', 'Gigabyte',\n",
              "       'Changhong', 'SONY Accessories', 'BEI', 'Lacie', 'Rendys chem',\n",
              "       'Aoyama', 'CCC', 'Best CT', 'BMstore', 'Casing', 'Sotta',\n",
              "       'Crystal ', 'Aviiq', 'bestrunner', 'XCS®', 'Ohbuybuybuy', 'Iconic',\n",
              "       'Vococal', 'BCA1', 'LCD Universal Charger', 'E-link', 'R-One',\n",
              "       'T2COM', 'LED', 'To-Go Ware', 'SelaluAda', 'boneka_nizza',\n",
              "       'Gadmei', 'Lainnya', 'Anycast', 'iDragon', 'toko49', 'Pixio',\n",
              "       'Anycast dongle', 'RajaOB', 'LED COOCAA', 'HDMI', 'SP', 'AVITA',\n",
              "       'Promo', 'Qflash', 'Rexus', 'Log on', 'Tori', 'TD', 'Lazada',\n",
              "       'ltgem', 'Ultra', 'SA YANYI', 'Niko', 'Elife', 'Mayaka', 'Bulus',\n",
              "       'VANVO', 'SS', 'Trisonic', 'Lexar', 'None', 'WARM', 'Good Shop',\n",
              "       'Dadidu', 'Luby', 'Fashion Cabinet', 'Qimiao', 'Marvel', 'RINREI',\n",
              "       'Universally', 'Hiqueen', 'Team', 'Redcolourful', 'Apacer',\n",
              "       'Big House', 'Universal Indonesia', 'FAK', 'Eyota', 'Carcool',\n",
              "       'Neve', 'DWO', 'EO TP', 'Sanex', 'ANTARESTAR', 'Meco',\n",
              "       'vgen ddr3L pc12800', 'Merk Lainnya', 'Newsat', 'Zyrex', 'Eva',\n",
              "       'Mito', 'Vivan', 'Robot', 'VEECOMEZY', 'Logon', 'Vortex', 'Taff',\n",
              "       'Mitochiba', 'Tanpa Merek', 'Jumper', 'JBS', 'Teiton', 'Netac',\n",
              "       'PX', 'KLEVV', 'Discovery', 'Max', 'Kado Unik--', 'Remax',\n",
              "       'Originals', 'Fahrenheit', 'Syubidap', 'Hewlett-Packard',\n",
              "       'HP COMPAQ', 'PNY', 'Titanium', 'universal_brand', 'GPD',\n",
              "       'Eva Case', 'Sharkoon', 'Vktech', 'HP Scooter', 'ONE', 'Mediatech',\n",
              "       'Fujitsu', 'W-Stor', 'Vodool', 'HGST'], dtype=object)"
            ]
          },
          "metadata": {},
          "execution_count": 7
        }
      ]
    },
    {
      "cell_type": "code",
      "source": [
        "# Hiển thị dữ liệu trong cột totalReviews\n",
        "df['totalReviews'].unique()"
      ],
      "metadata": {
        "colab": {
          "base_uri": "https://localhost:8080/"
        },
        "id": "SXnt_nizliJE",
        "outputId": "1d4474df-193a-4e6b-bd51-54e6cc8de143"
      },
      "execution_count": 8,
      "outputs": [
        {
          "output_type": "execute_result",
          "data": {
            "text/plain": [
              "array([   8,    3,    2,   11,    1,   10,    7,    4,    6,   91,   54,\n",
              "         13,   17,   29,   40,   22,    5,   23,   26,   28,   20,   49,\n",
              "         15,    9,   19,   14,   56,   12,   30,   70,   16,  166,   27,\n",
              "         86,   21,   25,  505,   45,   71,   51,  128,  104,   36,   37,\n",
              "         18,   67,   35,   77,  362,  102,   69,   34,   63,   73,  263,\n",
              "         42,   39,  188,   48,  220,   46,   43,   85,   24,  262,  149,\n",
              "         90,   74,   65,   52,   32,  593,   55,   59,   33,  696,  169,\n",
              "         82,   31,  136,   50,   57,   44,  115,  203,  132,  110,   38,\n",
              "        113,   61,   47,  297,  135, 1022, 3751, 1577,   81,   75,  198,\n",
              "         53,  229,  176, 5013,   78, 1232,  322,  287,  125, 1405, 3039,\n",
              "       1533,  222,  153,  232,   62,  374, 2744,  180,  117,   72,   80,\n",
              "         96,  266,  134,  112,  146,  137,  124,   93,  440,  272,  199,\n",
              "        206,  129,  154,  109,  138,  264,   79,  140,  218, 1155,   83,\n",
              "        249,   41,   58,  145,  111,  142,  451,  245,  238,  139,  244,\n",
              "        239,  121,  156,  118, 9631, 2575,  913, 6819,  994,   95, 1227,\n",
              "        918, 4340,  196,  105,  354,  155,  373,  564,  785,  285,  174,\n",
              "        407,  515,  365,  126,  183,   87,   66,  131,  212,  225,  103,\n",
              "         84,   60,  228,   99,  327,   64,  379,  830,  144,  306,  233,\n",
              "         97,  370,  151,  290,  527,  158,  265,  201,  186,   76,  298,\n",
              "       1244,  133,  307,  240,  214,  114,  182,  173])"
            ]
          },
          "metadata": {},
          "execution_count": 8
        }
      ]
    },
    {
      "cell_type": "markdown",
      "source": [
        "## II. Phân tích\n",
        "\n",
        "**Sử dụng trực quan hóa dữ liệu** "
      ],
      "metadata": {
        "id": "DDAenPAJpWG0"
      }
    },
    {
      "cell_type": "markdown",
      "source": [
        "1. Phân tích tên hãng của sản phẩm"
      ],
      "metadata": {
        "id": "4poenkBxqtM1"
      }
    },
    {
      "cell_type": "code",
      "source": [
        "df = df.head(10)\n",
        "\n",
        "fig = plt.figure(figsize=(7,3))\n",
        "ax  = fig.add_axes([0,0,1,1])\n",
        "ax.set_xlabel('brandName')\n",
        "ax.set_ylabel('totalReviews')\n",
        "\n",
        "ax.bar(df['brandName'],df['totalReviews'])\n",
        "plt.show()"
      ],
      "metadata": {
        "colab": {
          "base_uri": "https://localhost:8080/",
          "height": 278
        },
        "id": "nuPdrMohmHmz",
        "outputId": "dd20b0ee-4ef1-40b3-bb74-333bf9fb6c45"
      },
      "execution_count": 10,
      "outputs": [
        {
          "output_type": "display_data",
          "data": {
            "image/png": "[encoded data removed]",
            "text/plain": [
              "<Figure size 504x216 with 1 Axes>"
            ]
          },
          "metadata": {
            "needs_background": "light"
          }
        }
      ]
    },
    {
      "cell_type": "markdown",
      "source": [
        "**Nhận xét:**\n",
        "\n",
        "Sharp có tổng số đánh giá cao nhất \n",
        "\n",
        "Lenovo có tổng số đánh giá thấp nhất\n"
      ],
      "metadata": {
        "id": "mw3178snpsKF"
      }
    },
    {
      "cell_type": "markdown",
      "source": [
        "2.Tỉ lệ phần trăm xếp hạng trung bình của mỗi hãng\n",
        "\n",
        "\n",
        "\n"
      ],
      "metadata": {
        "id": "X08So3Kiq4AL"
      }
    },
    {
      "cell_type": "code",
      "source": [
        "#piechart df_items\n",
        "df = df.groupby('brandName').sum()['averageRating'].reset_index()\n",
        "fig = plt.figure()\n",
        "ax  = fig.add_axes([0,0,1,1])\n",
        "ax.axis('equal')\n",
        "ax.set_title(label= 'Rating rata-rata pelanggan menilai nama product')\n",
        "ax.pie(df['averageRating'],labels = df['brandName'],autopct='%1.2f%%')\n",
        "plt.show()"
      ],
      "metadata": {
        "colab": {
          "base_uri": "https://localhost:8080/",
          "height": 335
        },
        "id": "LaMG7lATmSf2",
        "outputId": "b526fa6b-6c6b-4659-e4df-d025eb6104d8"
      },
      "execution_count": 11,
      "outputs": [
        {
          "output_type": "display_data",
          "data": {
            "image/png": "[encoded data removed]",
            "text/plain": [
              "<Figure size 432x288 with 1 Axes>"
            ]
          },
          "metadata": {}
        }
      ]
    },
    {
      "cell_type": "markdown",
      "source": [
        "**Nhận xét:**\n",
        "\n",
        "Philips có xếp hạng trung bình cao nhất(21.05%)\n",
        "\n",
        "LG,Sharp và Acer có xếp hạng trung bình thấp và ngang nhau(7.89%)"
      ],
      "metadata": {
        "id": "e3eAWfQJrROl"
      }
    }
  ]
}